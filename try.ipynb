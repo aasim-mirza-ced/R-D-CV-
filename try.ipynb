{
 "cells": [
  {
   "cell_type": "code",
   "execution_count": 1,
   "metadata": {},
   "outputs": [],
   "source": [
    "import pandas as pd\n",
    "import numpy as np\n",
    "import cv2\n",
    "import math\n",
    "import matplotlib.pyplot as plt"
   ]
  },
  {
   "cell_type": "code",
   "execution_count": 2,
   "metadata": {},
   "outputs": [],
   "source": [
    "img = cv2.imread(\"D:/FloorplanToBlender3d-master/Images/Examples/Bedroom.png\")\n"
   ]
  },
  {
   "cell_type": "code",
   "execution_count": 3,
   "metadata": {},
   "outputs": [
    {
     "data": {
      "image/png": "[encoded data removed]",
      "text/plain": [
       "<Figure size 640x480 with 1 Axes>"
      ]
     },
     "metadata": {},
     "output_type": "display_data"
    }
   ],
   "source": [
    "plt.imshow(img)\n",
    "plt.axis('off')\n",
    "plt.show()"
   ]
  },
  {
   "cell_type": "code",
   "execution_count": 4,
   "metadata": {},
   "outputs": [],
   "source": [
    "gray = cv2.cvtColor(img,cv2.COLOR_BGR2GRAY)"
   ]
  },
  {
   "cell_type": "code",
   "execution_count": 5,
   "metadata": {},
   "outputs": [],
   "source": [
    "height, width, channels = img.shape"
   ]
  },
  {
   "cell_type": "code",
   "execution_count": null,
   "metadata": {},
   "outputs": [],
   "source": []
  },
  {
   "cell_type": "code",
   "execution_count": 6,
   "metadata": {},
   "outputs": [],
   "source": [
    "def wall_filter(gray):\n",
    "    \"\"\"\n",
    "    Filter walls\n",
    "    Filter out walls from a grayscale image\n",
    "    @Param image\n",
    "    @Return image of walls\n",
    "    \"\"\"\n",
    "    _, thresh = cv2.threshold(\n",
    "        gray,\n",
    "        const.WALL_FILTER_TRESHOLD[0],\n",
    "        const.WALL_FILTER_TRESHOLD[1],\n",
    "        cv2.THRESH_BINARY_INV + cv2.THRESH_OTSU,\n",
    "    )\n",
    "\n",
    "    # noise removal\n",
    "    kernel = np.ones(const.WALL_FILTER_KERNEL_SIZE, np.uint8)\n",
    "    opening = cv2.morphologyEx(\n",
    "        thresh,\n",
    "        cv2.MORPH_OPEN,\n",
    "        kernel,\n",
    "        iterations=const.WALL_FILTER_MORPHOLOGY_ITERATIONS,\n",
    "    )\n",
    "\n",
    "    sure_bg = cv2.dilate(\n",
    "        opening, kernel, iterations=const.WALL_FILTER_DILATE_ITERATIONS\n",
    "    )\n",
    "\n",
    "    dist_transform = cv2.distanceTransform(\n",
    "        opening, cv2.DIST_L2, const.WALL_FILTER_DISTANCE\n",
    "    )\n",
    "    ret, sure_fg = cv2.threshold(\n",
    "        const.WALL_FILTER_DISTANCE_THRESHOLD[0] * dist_transform,\n",
    "        const.WALL_FILTER_DISTANCE_THRESHOLD[1] * dist_transform.max(),\n",
    "        const.WALL_FILTER_MAX_VALUE,\n",
    "        const.WALL_FILTER_THRESHOLD_TECHNIQUE,\n",
    "    )\n",
    "\n",
    "    sure_fg = np.uint8(sure_fg)\n",
    "    unknown = cv2.subtract(sure_bg, sure_fg)\n",
    "\n",
    "    return unknown"
   ]
  },
  {
   "cell_type": "code",
   "execution_count": 7,
   "metadata": {},
   "outputs": [],
   "source": [
    "def wall_width_average(img):\n",
    "    \"\"\"\n",
    "    This function calculate an average of all walls in floorplan.\n",
    "    This is used to scale the size of the image for better accuracy.\n",
    "    Returns the average as float value. See CALIBRATION in config file.\n",
    "    \"\"\"\n",
    "    # grayscale image\n",
    "    gray = cv2.cvtColor(img, cv2.COLOR_BGR2GRAY)\n",
    "\n",
    "    # Resulting image\n",
    "    height, width, channels = img.shape\n",
    "    blank_image = np.zeros(\n",
    "        (height, width, 3), np.uint8\n",
    "    )  # output image same size as original\n",
    "\n",
    "    # create wall image (filter out small objects from image)\n",
    "    wall_img = detect.wall_filter(gray)\n",
    "    print(type(wall_img))"
   ]
  },
  {
   "cell_type": "code",
   "execution_count": null,
   "metadata": {},
   "outputs": [],
   "source": []
  }
 ],
 "metadata": {
  "kernelspec": {
   "display_name": "Python 3",
   "language": "python",
   "name": "python3"
  },
  "language_info": {
   "codemirror_mode": {
    "name": "ipython",
    "version": 3
   },
   "file_extension": ".py",
   "mimetype": "text/x-python",
   "name": "python",
   "nbconvert_exporter": "python",
   "pygments_lexer": "ipython3",
   "version": "3.11.9"
  }
 },
 "nbformat": 4,
 "nbformat_minor": 2
}
